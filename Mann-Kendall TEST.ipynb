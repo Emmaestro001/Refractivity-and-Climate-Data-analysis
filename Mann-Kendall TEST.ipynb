{
 "cells": [
  {
   "cell_type": "code",
   "execution_count": 1,
   "id": "0a159eae-3472-40a4-9552-2e04eb2f500b",
   "metadata": {},
   "outputs": [
    {
     "name": "stderr",
     "output_type": "stream",
     "text": [
      "Matplotlib is building the font cache; this may take a moment.\n"
     ]
    }
   ],
   "source": [
    "import matplotlib.pyplot as plt\n",
    "import pandas as pd\n",
    "import seaborn as sns\n",
    "import pymannkendall as mk\n",
    "%matplotlib inline"
   ]
  },
  {
   "cell_type": "code",
   "execution_count": 5,
   "id": "0484bdc6-a5db-42bc-b6f7-12f421c9e10f",
   "metadata": {},
   "outputs": [],
   "source": [
    "#Import the data from the excel sheets for all study locations\n",
    "ABJ= pd.read_excel('ANNUAL.xlsx', sheet_name ='ABJ')\n",
    "IK= pd.read_excel('ANNUAL.xlsx', sheet_name ='IK')\n",
    "GOM= pd.read_excel('ANNUAL.xlsx', sheet_name ='GOM')\n",
    "YEN= pd.read_excel('ANNUAL.xlsx', sheet_name ='YEN')\n",
    "IBN= pd.read_excel('ANNUAL.xlsx', sheet_name ='IBN')\n",
    "JAL= pd.read_excel('ANNUAL.xlsx', sheet_name ='JAL')\n",
    "SOK= pd.read_excel('ANNUAL.xlsx', sheet_name ='SOK')\n",
    "KUK= pd.read_excel('ANNUAL.xlsx', sheet_name ='KUK')"
   ]
  },
  {
   "cell_type": "code",
   "execution_count": 7,
   "id": "ea584477-3e7d-4f5b-8509-ca28edc4ceef",
   "metadata": {},
   "outputs": [],
   "source": [
    "#Annual Mann-Kendall test for Yenagoa"
   ]
  },
  {
   "cell_type": "code",
   "execution_count": 8,
   "id": "3cafe7e4-508e-4b83-9667-978df63d6b8b",
   "metadata": {},
   "outputs": [
    {
     "data": {
      "text/plain": [
       "Mann_Kendall_Test(trend='increasing', h=np.True_, p=np.float64(1.6667654605395654e-06), z=np.float64(4.790126085203618), Tau=np.float64(0.5145180023228804), s=np.float64(443.0), var_s=8514.333333333334, slope=np.float64(0.1573280776362996), intercept=np.float64(380.22628106988395))"
      ]
     },
     "execution_count": 8,
     "metadata": {},
     "output_type": "execute_result"
    }
   ],
   "source": [
    "mk.original_test(YEN.REF)"
   ]
  },
  {
   "cell_type": "code",
   "execution_count": 9,
   "id": "72da4bcf-3524-4321-86ee-f8c6b1b85891",
   "metadata": {},
   "outputs": [
    {
     "data": {
      "text/plain": [
       "Mann_Kendall_Test(trend='increasing', h=np.True_, p=np.float64(6.490566133443565e-07), z=np.float64(4.976017859823596), Tau=np.float64(0.5342624854819977), s=np.float64(460.0), var_s=np.float64(8508.666666666666), slope=np.float64(0.020000000000000757), intercept=np.float64(298.53999999999996))"
      ]
     },
     "execution_count": 9,
     "metadata": {},
     "output_type": "execute_result"
    }
   ],
   "source": [
    "mk.original_test(YEN.TEMP)"
   ]
  },
  {
   "cell_type": "code",
   "execution_count": 10,
   "id": "e5125845-fa3e-42ec-873f-8885bccaa809",
   "metadata": {},
   "outputs": [
    {
     "data": {
      "text/plain": [
       "Mann_Kendall_Test(trend='no trend', h=np.False_, p=np.float64(0.2355838975854505), z=np.float64(-1.1860972470805347), Tau=np.float64(-0.12659698025551683), s=np.float64(-109.0), var_s=np.float64(8291.0), slope=np.float64(-0.004000000000000909), intercept=np.float64(1009.232))"
      ]
     },
     "execution_count": 10,
     "metadata": {},
     "output_type": "execute_result"
    }
   ],
   "source": [
    "mk.original_test(YEN.PRES)"
   ]
  },
  {
   "cell_type": "code",
   "execution_count": 11,
   "id": "74d8395e-d75f-41bd-bb6f-722a1a1657bf",
   "metadata": {},
   "outputs": [
    {
     "data": {
      "text/plain": [
       "Mann_Kendall_Test(trend='increasing', h=np.True_, p=np.float64(0.0007805802576068555), z=np.float64(3.3595906932423563), Tau=np.float64(0.3612078977932636), s=np.float64(311.0), var_s=8514.333333333334, slope=np.float64(0.03571428571428571), intercept=np.float64(86.93785714285714))"
      ]
     },
     "execution_count": 11,
     "metadata": {},
     "output_type": "execute_result"
    }
   ],
   "source": [
    "mk.original_test(YEN.RH)"
   ]
  },
  {
   "cell_type": "code",
   "execution_count": 12,
   "id": "b2e397d0-061a-47e5-a088-6ea8938e0858",
   "metadata": {},
   "outputs": [
    {
     "data": {
      "text/plain": [
       "Mann_Kendall_Test(trend='no trend', h=np.False_, p=np.float64(0.27848056798213805), z=np.float64(-1.083738933303986), Tau=np.float64(-0.1173054587688734), s=np.float64(-101.0), var_s=8514.333333333334, slope=np.float64(-12.556000000000004), intercept=np.float64(2816.4580000000005))"
      ]
     },
     "execution_count": 12,
     "metadata": {},
     "output_type": "execute_result"
    }
   ],
   "source": [
    "mk.original_test(YEN.PRECIP)"
   ]
  },
  {
   "cell_type": "code",
   "execution_count": 49,
   "id": "17ad1d24-9aca-4565-a9c6-19cd2964d349",
   "metadata": {},
   "outputs": [],
   "source": [
    "#Annual Mann-Kendall test for Ikot Akpaden"
   ]
  },
  {
   "cell_type": "code",
   "execution_count": 13,
   "id": "d2a4e441-6a3b-41a2-8e0f-7103ed7c1511",
   "metadata": {},
   "outputs": [
    {
     "data": {
      "text/plain": [
       "Mann_Kendall_Test(trend='increasing', h=np.True_, p=np.float64(3.25625735264623e-08), z=np.float64(5.527068559850329), Tau=np.float64(0.5934959349593496), s=np.float64(511.0), var_s=8514.333333333334, slope=np.float64(0.15772207503284033), intercept=np.float64(384.5503318357295))"
      ]
     },
     "execution_count": 13,
     "metadata": {},
     "output_type": "execute_result"
    }
   ],
   "source": [
    "mk.original_test(IK.REF)"
   ]
  },
  {
   "cell_type": "code",
   "execution_count": 14,
   "id": "4af47dc9-8c70-4595-91c1-600cffa9a5a6",
   "metadata": {},
   "outputs": [
    {
     "data": {
      "text/plain": [
       "Mann_Kendall_Test(trend='increasing', h=np.True_, p=np.float64(5.9957650867081824e-05), z=np.float64(4.0129774190923575), Tau=np.float64(0.43089430894308944), s=np.float64(371.0), var_s=np.float64(8501.0), slope=np.float64(0.011249999999999242), intercept=np.float64(300.064375))"
      ]
     },
     "execution_count": 14,
     "metadata": {},
     "output_type": "execute_result"
    }
   ],
   "source": [
    "mk.original_test(IK.TEMP)"
   ]
  },
  {
   "cell_type": "code",
   "execution_count": 15,
   "id": "91d14f8a-1301-4f23-8424-3c56249b1ce2",
   "metadata": {},
   "outputs": [
    {
     "data": {
      "text/plain": [
       "Mann_Kendall_Test(trend='no trend', h=np.False_, p=np.float64(0.2259271793751494), z=np.float64(-1.2109170969990086), Tau=np.float64(-0.13008130081300814), s=np.float64(-112.0), var_s=np.float64(8402.666666666666), slope=np.float64(-0.005263157894732055), intercept=np.float64(1010.207894736842))"
      ]
     },
     "execution_count": 15,
     "metadata": {},
     "output_type": "execute_result"
    }
   ],
   "source": [
    "mk.original_test(IK.PRES)"
   ]
  },
  {
   "cell_type": "code",
   "execution_count": 16,
   "id": "75926b6b-e8df-4584-8ec8-ce09b4292eee",
   "metadata": {},
   "outputs": [
    {
     "data": {
      "text/plain": [
       "Mann_Kendall_Test(trend='increasing', h=np.True_, p=np.float64(4.315205679450429e-06), z=np.float64(4.5955928567292), Tau=np.float64(0.49361207897793263), s=np.float64(425.0), var_s=np.float64(8512.333333333334), slope=np.float64(0.06217391304347794), intercept=np.float64(84.1154347826087))"
      ]
     },
     "execution_count": 16,
     "metadata": {},
     "output_type": "execute_result"
    }
   ],
   "source": [
    "mk.original_test(IK.RH)"
   ]
  },
  {
   "cell_type": "code",
   "execution_count": 17,
   "id": "53e7474b-e1f1-4aac-b8e4-140bede760ba",
   "metadata": {},
   "outputs": [
    {
     "data": {
      "text/plain": [
       "Mann_Kendall_Test(trend='no trend', h=np.False_, p=np.float64(0.5584004547635599), z=np.float64(0.5852190239841524), Tau=np.float64(0.06387921022067364), s=np.float64(55.0), var_s=8514.333333333334, slope=np.float64(5.451666666666657), intercept=np.float64(2445.8808333333336))"
      ]
     },
     "execution_count": 17,
     "metadata": {},
     "output_type": "execute_result"
    }
   ],
   "source": [
    "mk.original_test(IK.PRECIP)"
   ]
  },
  {
   "cell_type": "code",
   "execution_count": 50,
   "id": "83a4e805-28b2-4bb5-a1a9-5378477ad229",
   "metadata": {},
   "outputs": [],
   "source": [
    "#Annual Mann-Kendall test for Ibadan"
   ]
  },
  {
   "cell_type": "code",
   "execution_count": 18,
   "id": "1b2e7dea-ed77-4064-8a24-e0adf538bdd1",
   "metadata": {},
   "outputs": [
    {
     "data": {
      "text/plain": [
       "Mann_Kendall_Test(trend='increasing', h=np.True_, p=np.float64(4.193834244525796e-05), z=np.float64(4.096533167889067), Tau=np.float64(0.44018583042973286), s=np.float64(379.0), var_s=8514.333333333334, slope=np.float64(0.13120017215282742), intercept=np.float64(368.1990136886217))"
      ]
     },
     "execution_count": 18,
     "metadata": {},
     "output_type": "execute_result"
    }
   ],
   "source": [
    "mk.original_test(IBN.REF)"
   ]
  },
  {
   "cell_type": "code",
   "execution_count": 19,
   "id": "bda814b8-5bc7-41c3-a49d-2f9b80c2bb10",
   "metadata": {},
   "outputs": [
    {
     "data": {
      "text/plain": [
       "Mann_Kendall_Test(trend='no trend', h=np.False_, p=np.float64(0.3133144112524404), z=np.float64(1.0082917732365424), Tau=np.float64(0.1091753774680604), s=np.float64(94.0), var_s=np.float64(8507.333333333334), slope=np.float64(0.005000000000002558), intercept=np.float64(298.2024999999999))"
      ]
     },
     "execution_count": 19,
     "metadata": {},
     "output_type": "execute_result"
    }
   ],
   "source": [
    "mk.original_test(IBN.TEMP)"
   ]
  },
  {
   "cell_type": "code",
   "execution_count": 20,
   "id": "b8a132e9-67fa-4430-a223-eca98ec0b6e6",
   "metadata": {},
   "outputs": [
    {
     "data": {
      "text/plain": [
       "Mann_Kendall_Test(trend='no trend', h=np.False_, p=np.float64(0.6143070615026534), z=np.float64(-0.5039349899112848), Tau=np.float64(-0.0545876887340302), s=np.float64(-47.0), var_s=np.float64(8332.333333333334), slope=np.float64(0.0), intercept=np.float64(989.5999999999999))"
      ]
     },
     "execution_count": 20,
     "metadata": {},
     "output_type": "execute_result"
    }
   ],
   "source": [
    "mk.original_test(IBN.PRES)"
   ]
  },
  {
   "cell_type": "code",
   "execution_count": 21,
   "id": "2f5f5663-2d97-4ba4-9c7a-babc45a1cea7",
   "metadata": {},
   "outputs": [
    {
     "data": {
      "text/plain": [
       "Mann_Kendall_Test(trend='increasing', h=np.True_, p=np.float64(5.79743495134899e-05), z=np.float64(4.020907575293477), Tau=np.float64(0.43205574912891986), s=np.float64(372.0), var_s=np.float64(8513.333333333334), slope=np.float64(0.07111111111111118), intercept=np.float64(83.65222222222222))"
      ]
     },
     "execution_count": 21,
     "metadata": {},
     "output_type": "execute_result"
    }
   ],
   "source": [
    "mk.original_test(IBN.RH)"
   ]
  },
  {
   "cell_type": "code",
   "execution_count": 22,
   "id": "31c4e0e5-8fe3-4474-b719-e72e9941b529",
   "metadata": {},
   "outputs": [
    {
     "data": {
      "text/plain": [
       "Mann_Kendall_Test(trend='no trend', h=np.False_, p=np.float64(0.08684001256551266), z=np.float64(1.7123075146202977), Tau=np.float64(0.18466898954703834), s=np.float64(159.0), var_s=8514.333333333334, slope=np.float64(6.911904761904755), intercept=np.float64(1519.5709523809523))"
      ]
     },
     "execution_count": 22,
     "metadata": {},
     "output_type": "execute_result"
    }
   ],
   "source": [
    "mk.original_test(IBN.PRECIP)"
   ]
  },
  {
   "cell_type": "code",
   "execution_count": 51,
   "id": "5f33fb57-bbcc-4097-ada4-33c6dc5a9f39",
   "metadata": {},
   "outputs": [],
   "source": [
    "#Annual Mann-Kendall test for Jalingo"
   ]
  },
  {
   "cell_type": "code",
   "execution_count": 23,
   "id": "db28380f-e50c-499d-8ffe-501a949b734e",
   "metadata": {},
   "outputs": [
    {
     "data": {
      "text/plain": [
       "Mann_Kendall_Test(trend='no trend', h=np.False_, p=np.float64(0.233217008256964), z=np.float64(-1.1921128266343846), Tau=np.float64(-0.1289198606271777), s=np.float64(-111.0), var_s=8514.333333333334, slope=np.float64(-0.05475155088370798), intercept=np.float64(348.11396130044676))"
      ]
     },
     "execution_count": 23,
     "metadata": {},
     "output_type": "execute_result"
    }
   ],
   "source": [
    "mk.original_test(JAL.REF)"
   ]
  },
  {
   "cell_type": "code",
   "execution_count": 24,
   "id": "e99ffa1f-b38f-4d98-a312-ecc73cbfc29d",
   "metadata": {},
   "outputs": [
    {
     "data": {
      "text/plain": [
       "Mann_Kendall_Test(trend='increasing', h=np.True_, p=np.float64(2.8739348203687953e-05), z=np.float64(4.183232282553385), Tau=np.float64(0.44947735191637633), s=np.float64(387.0), var_s=8514.333333333334, slope=np.float64(0.05352941176470401), intercept=np.float64(298.8226470588235))"
      ]
     },
     "execution_count": 24,
     "metadata": {},
     "output_type": "execute_result"
    }
   ],
   "source": [
    "mk.original_test(JAL.TEMP)"
   ]
  },
  {
   "cell_type": "code",
   "execution_count": 25,
   "id": "2971efa3-f8d6-4924-b413-465bc84eb954",
   "metadata": {},
   "outputs": [
    {
     "data": {
      "text/plain": [
       "Mann_Kendall_Test(trend='no trend', h=np.False_, p=np.float64(0.809320938608665), z=np.float64(-0.24130215780849298), Tau=np.float64(-0.026713124274099883), s=np.float64(-23.0), var_s=np.float64(8312.333333333334), slope=np.float64(0.0), intercept=np.float64(981.5999999999999))"
      ]
     },
     "execution_count": 25,
     "metadata": {},
     "output_type": "execute_result"
    }
   ],
   "source": [
    "mk.original_test(JAL.PRES)"
   ]
  },
  {
   "cell_type": "code",
   "execution_count": 26,
   "id": "db347e90-7809-4dd5-9b48-60f1c4e6b532",
   "metadata": {},
   "outputs": [
    {
     "data": {
      "text/plain": [
       "Mann_Kendall_Test(trend='decreasing', h=np.True_, p=np.float64(0.000693079837748023), z=np.float64(-3.3923020783473268), Tau=np.float64(-0.36469221835075494), s=np.float64(-314.0), var_s=np.float64(8513.333333333334), slope=np.float64(-0.16666666666666666), intercept=np.float64(67.55666666666667))"
      ]
     },
     "execution_count": 26,
     "metadata": {},
     "output_type": "execute_result"
    }
   ],
   "source": [
    "mk.original_test(JAL.RH)"
   ]
  },
  {
   "cell_type": "code",
   "execution_count": 27,
   "id": "734978b7-7998-413d-8495-6caf22c16adf",
   "metadata": {},
   "outputs": [
    {
     "data": {
      "text/plain": [
       "Mann_Kendall_Test(trend='decreasing', h=np.True_, p=np.float64(0.01923855063903157), z=np.float64(-2.3408760959366095), Tau=np.float64(-0.25203252032520324), s=np.float64(-217.0), var_s=8514.333333333334, slope=np.float64(-6.315454545454548), intercept=np.float64(1187.0868181818182))"
      ]
     },
     "execution_count": 27,
     "metadata": {},
     "output_type": "execute_result"
    }
   ],
   "source": [
    "mk.original_test(JAL.PRECIP)"
   ]
  },
  {
   "cell_type": "code",
   "execution_count": 52,
   "id": "072b7320-0498-4de3-b680-34ad3dc13663",
   "metadata": {},
   "outputs": [],
   "source": [
    "#Annual Mann-Kendall test for Abuja"
   ]
  },
  {
   "cell_type": "code",
   "execution_count": 28,
   "id": "e88683e2-1739-411b-a012-10fbaa983339",
   "metadata": {},
   "outputs": [
    {
     "data": {
      "text/plain": [
       "Mann_Kendall_Test(trend='no trend', h=np.False_, p=np.float64(0.20096328781426642), z=np.float64(-1.2788119412987033), Tau=np.float64(-0.13821138211382114), s=np.float64(-119.0), var_s=8514.333333333334, slope=np.float64(-0.04527430842358271), intercept=np.float64(347.27651176650636))"
      ]
     },
     "execution_count": 28,
     "metadata": {},
     "output_type": "execute_result"
    }
   ],
   "source": [
    "mk.original_test(ABJ.REF)"
   ]
  },
  {
   "cell_type": "code",
   "execution_count": 29,
   "id": "a61f5ed3-93ff-4fa7-b59d-f163dbe9f2a3",
   "metadata": {},
   "outputs": [
    {
     "data": {
      "text/plain": [
       "Mann_Kendall_Test(trend='increasing', h=np.True_, p=np.float64(1.473342666313826e-06), z=np.float64(4.814817785433466), Tau=np.float64(0.5168408826945412), s=np.float64(445.0), var_s=np.float64(8503.666666666666), slope=np.float64(0.05899999999999939), intercept=np.float64(296.8505))"
      ]
     },
     "execution_count": 29,
     "metadata": {},
     "output_type": "execute_result"
    }
   ],
   "source": [
    "mk.original_test(ABJ.TEMP)"
   ]
  },
  {
   "cell_type": "code",
   "execution_count": 30,
   "id": "751d9a35-150c-45ef-8e91-0a7047876a9e",
   "metadata": {},
   "outputs": [
    {
     "data": {
      "text/plain": [
       "Mann_Kendall_Test(trend='no trend', h=np.False_, p=np.float64(0.956288451744967), z=np.float64(-0.054811734416736625), Tau=np.float64(-0.006968641114982578), s=np.float64(-6.0), var_s=np.float64(8321.333333333334), slope=np.float64(0.0), intercept=np.float64(964.8000000000001))"
      ]
     },
     "execution_count": 30,
     "metadata": {},
     "output_type": "execute_result"
    }
   ],
   "source": [
    "mk.original_test(ABJ.PRES)"
   ]
  },
  {
   "cell_type": "code",
   "execution_count": 31,
   "id": "623cb75c-3f9a-4c63-8fb8-eedb017a2c4e",
   "metadata": {},
   "outputs": [
    {
     "data": {
      "text/plain": [
       "Mann_Kendall_Test(trend='decreasing', h=np.True_, p=np.float64(3.818300770763727e-05), z=np.float64(-4.118207946555146), Tau=np.float64(-0.4425087108013937), s=np.float64(-381.0), var_s=8514.333333333334, slope=np.float64(-0.20931034482758645), intercept=np.float64(76.77586206896554))"
      ]
     },
     "execution_count": 31,
     "metadata": {},
     "output_type": "execute_result"
    }
   ],
   "source": [
    "mk.original_test(ABJ.RH)"
   ]
  },
  {
   "cell_type": "code",
   "execution_count": 32,
   "id": "fcf6ce45-1941-48d2-af2e-e091e70846d2",
   "metadata": {},
   "outputs": [
    {
     "data": {
      "text/plain": [
       "Mann_Kendall_Test(trend='decreasing', h=np.True_, p=np.float64(0.0005683405020384669), z=np.float64(-3.4462898079066755), Tau=np.float64(-0.3704994192799071), s=np.float64(-319.0), var_s=8514.333333333334, slope=np.float64(-17.120322580645162), intercept=np.float64(1818.481612903226))"
      ]
     },
     "execution_count": 32,
     "metadata": {},
     "output_type": "execute_result"
    }
   ],
   "source": [
    "mk.original_test(ABJ.PRECIP)"
   ]
  },
  {
   "cell_type": "code",
   "execution_count": 53,
   "id": "8d402d37-c4ea-47b4-817c-1526d10182e3",
   "metadata": {},
   "outputs": [],
   "source": [
    "#Annual Mann-Kendall test for Sokoto"
   ]
  },
  {
   "cell_type": "code",
   "execution_count": 33,
   "id": "2857ab82-ebc4-40b8-8425-6b32c2e952f0",
   "metadata": {},
   "outputs": [
    {
     "data": {
      "text/plain": [
       "Mann_Kendall_Test(trend='increasing', h=np.True_, p=np.float64(0.002409595070862247), z=np.float64(3.0344690132511607), Tau=np.float64(0.32636469221835074), s=np.float64(281.0), var_s=8514.333333333334, slope=np.float64(0.19629456590789435), intercept=np.float64(315.69620874394747))"
      ]
     },
     "execution_count": 33,
     "metadata": {},
     "output_type": "execute_result"
    }
   ],
   "source": [
    "mk.original_test(SOK.REF)"
   ]
  },
  {
   "cell_type": "code",
   "execution_count": 34,
   "id": "a9e60bb1-e898-47c4-9a46-c0d43115d470",
   "metadata": {},
   "outputs": [
    {
     "data": {
      "text/plain": [
       "Mann_Kendall_Test(trend='increasing', h=np.True_, p=np.float64(0.009287689191669113), z=np.float64(2.6012789755070944), Tau=np.float64(0.27990708478513354), s=np.float64(241.0), var_s=np.float64(8512.333333333334), slope=np.float64(0.13466666666666688), intercept=np.float64(40.13433333333332))"
      ]
     },
     "execution_count": 34,
     "metadata": {},
     "output_type": "execute_result"
    }
   ],
   "source": [
    "mk.original_test(SOK.TEMP)"
   ]
  },
  {
   "cell_type": "code",
   "execution_count": 35,
   "id": "cfa0af08-3056-4861-800d-376e4f115bd8",
   "metadata": {},
   "outputs": [
    {
     "data": {
      "text/plain": [
       "Mann_Kendall_Test(trend='increasing', h=np.True_, p=np.float64(0.03463776725042811), z=np.float64(2.1125679159108572), Tau=np.float64(0.2264808362369338), s=np.float64(195.0), var_s=np.float64(8433.0), slope=np.float64(0.01071428571428409), intercept=np.float64(978.5803571428571))"
      ]
     },
     "execution_count": 35,
     "metadata": {},
     "output_type": "execute_result"
    }
   ],
   "source": [
    "mk.original_test(SOK.PRES)"
   ]
  },
  {
   "cell_type": "code",
   "execution_count": 37,
   "id": "78a9a089-a1fc-4310-8aa2-e526c2a328aa",
   "metadata": {},
   "outputs": [
    {
     "data": {
      "text/plain": [
       "Mann_Kendall_Test(trend='no trend', h=np.False_, p=np.float64(0.44802822680621324), z=np.float64(-0.7587063678562359), Tau=np.float64(-0.08246225319396051), s=np.float64(-71.0), var_s=np.float64(8512.333333333334), slope=np.float64(-0.006190476190475974), intercept=np.float64(301.57190476190476))"
      ]
     },
     "execution_count": 37,
     "metadata": {},
     "output_type": "execute_result"
    }
   ],
   "source": [
    "mk.original_test(SOK.RH)"
   ]
  },
  {
   "cell_type": "code",
   "execution_count": 38,
   "id": "c2fb85aa-31eb-49ff-acf0-b31f6d0dd996",
   "metadata": {},
   "outputs": [
    {
     "data": {
      "text/plain": [
       "Mann_Kendall_Test(trend='increasing', h=np.True_, p=np.float64(3.160904804344611e-06), z=np.float64(4.66007741320714), Tau=np.float64(0.5005807200929152), s=np.float64(431.0), var_s=8514.333333333334, slope=np.float64(8.396666666666647), intercept=np.float64(449.5133333333337))"
      ]
     },
     "execution_count": 38,
     "metadata": {},
     "output_type": "execute_result"
    }
   ],
   "source": [
    "mk.original_test(SOK.PRECIP)"
   ]
  },
  {
   "cell_type": "code",
   "execution_count": 54,
   "id": "9009a0fe-2d24-40e4-8274-cdc1e4970783",
   "metadata": {},
   "outputs": [],
   "source": [
    "#Annual Mann-Kendall test for Gombe"
   ]
  },
  {
   "cell_type": "code",
   "execution_count": 39,
   "id": "ccc5a205-5c8e-4444-89c9-79fdf5f9e223",
   "metadata": {},
   "outputs": [
    {
     "data": {
      "text/plain": [
       "Mann_Kendall_Test(trend='no trend', h=np.False_, p=np.float64(0.233217008256964), z=np.float64(1.1921128266343846), Tau=np.float64(0.1289198606271777), s=np.float64(111.0), var_s=8514.333333333334, slope=np.float64(0.05594738921540522), intercept=np.float64(328.56870016930293))"
      ]
     },
     "execution_count": 39,
     "metadata": {},
     "output_type": "execute_result"
    }
   ],
   "source": [
    "mk.original_test(GOM.REF)"
   ]
  },
  {
   "cell_type": "code",
   "execution_count": 40,
   "id": "55f1a43e-897f-44f3-b8e1-b1f0b3eb26e7",
   "metadata": {},
   "outputs": [
    {
     "data": {
      "text/plain": [
       "Mann_Kendall_Test(trend='no trend', h=np.False_, p=np.float64(0.20091038034464437), z=np.float64(1.2789621629576549), Tau=np.float64(0.13821138211382114), s=np.float64(119.0), var_s=np.float64(8512.333333333334), slope=np.float64(0.014074074074073906), intercept=np.float64(299.9564814814815))"
      ]
     },
     "execution_count": 40,
     "metadata": {},
     "output_type": "execute_result"
    }
   ],
   "source": [
    "mk.original_test(GOM.TEMP)"
   ]
  },
  {
   "cell_type": "code",
   "execution_count": 41,
   "id": "f3fae9ff-7ce6-46c8-aa4f-98c0663d7ace",
   "metadata": {},
   "outputs": [
    {
     "data": {
      "text/plain": [
       "Mann_Kendall_Test(trend='no trend', h=np.False_, p=np.float64(0.09074952398268232), z=np.float64(1.6914571559035199), Tau=np.float64(0.18118466898954705), s=np.float64(156.0), var_s=np.float64(8397.333333333334), slope=np.float64(0.008000000000001818), intercept=np.float64(966.836))"
      ]
     },
     "execution_count": 41,
     "metadata": {},
     "output_type": "execute_result"
    }
   ],
   "source": [
    "mk.original_test(GOM.PRES)"
   ]
  },
  {
   "cell_type": "code",
   "execution_count": 42,
   "id": "737491a6-3da6-42b2-8784-9face2906d65",
   "metadata": {},
   "outputs": [
    {
     "data": {
      "text/plain": [
       "Mann_Kendall_Test(trend='no trend', h=np.False_, p=np.float64(0.9654228872862332), z=np.float64(0.043349557332159436), Tau=np.float64(0.005807200929152149), s=np.float64(5.0), var_s=8514.333333333334, slope=np.float64(0.002000000000000076), intercept=np.float64(54.04399999999999))"
      ]
     },
     "execution_count": 42,
     "metadata": {},
     "output_type": "execute_result"
    }
   ],
   "source": [
    "mk.original_test(GOM.RH)"
   ]
  },
  {
   "cell_type": "code",
   "execution_count": 43,
   "id": "6c7363ef-de7d-4969-8d49-7fe029fe9d8f",
   "metadata": {},
   "outputs": [
    {
     "data": {
      "text/plain": [
       "Mann_Kendall_Test(trend='no trend', h=np.False_, p=np.float64(0.32937921868675035), z=np.float64(0.9753650399735874), Tau=np.float64(0.10569105691056911), s=np.float64(91.0), var_s=8514.333333333334, slope=np.float64(4.199999999999981), intercept=np.float64(865.5950000000004))"
      ]
     },
     "execution_count": 43,
     "metadata": {},
     "output_type": "execute_result"
    }
   ],
   "source": [
    "mk.original_test(GOM.PRECIP)"
   ]
  },
  {
   "cell_type": "code",
   "execution_count": 55,
   "id": "d45ca719-40e8-4ed8-b99c-01f38dae8b5d",
   "metadata": {},
   "outputs": [],
   "source": [
    "#Annual Mann-Kendall test for Kukawa"
   ]
  },
  {
   "cell_type": "code",
   "execution_count": 44,
   "id": "6a9afee6-0fd6-4835-b890-c3886d10f379",
   "metadata": {},
   "outputs": [
    {
     "data": {
      "text/plain": [
       "Mann_Kendall_Test(trend='increasing', h=np.True_, p=np.float64(0.005530845036846088), z=np.float64(2.774371669258204), Tau=np.float64(0.29849012775842043), s=np.float64(257.0), var_s=8514.333333333334, slope=np.float64(0.16273888429652553), intercept=np.float64(304.13150224350727))"
      ]
     },
     "execution_count": 44,
     "metadata": {},
     "output_type": "execute_result"
    }
   ],
   "source": [
    "mk.original_test(KUK.REF)"
   ]
  },
  {
   "cell_type": "code",
   "execution_count": 45,
   "id": "c4ed0ed4-4830-4477-bf31-367484053a4b",
   "metadata": {},
   "outputs": [
    {
     "data": {
      "text/plain": [
       "Mann_Kendall_Test(trend='no trend', h=np.False_, p=np.float64(0.7947651193205123), z=np.float64(-0.2601278975507095), Tau=np.float64(-0.029036004645760744), s=np.float64(-25.0), var_s=np.float64(8512.333333333334), slope=np.float64(-0.0029411764705855603), intercept=np.float64(304.26029411764694))"
      ]
     },
     "execution_count": 45,
     "metadata": {},
     "output_type": "execute_result"
    }
   ],
   "source": [
    "mk.original_test(KUK.TEMP)"
   ]
  },
  {
   "cell_type": "code",
   "execution_count": 46,
   "id": "41f5b852-78bd-46e5-ad89-d02062ffe8ca",
   "metadata": {},
   "outputs": [
    {
     "data": {
      "text/plain": [
       "Mann_Kendall_Test(trend='no trend', h=np.False_, p=np.float64(0.06992509758920429), z=np.float64(1.8123955652847348), Tau=np.float64(0.19396051103368175), s=np.float64(167.0), var_s=np.float64(8389.0), slope=np.float64(0.010000000000007957), intercept=np.float64(976.8949999999998))"
      ]
     },
     "execution_count": 46,
     "metadata": {},
     "output_type": "execute_result"
    }
   ],
   "source": [
    "mk.original_test(KUK.PRES)"
   ]
  },
  {
   "cell_type": "code",
   "execution_count": 47,
   "id": "e5dfba97-8f0c-455c-985c-e3e6645265b2",
   "metadata": {},
   "outputs": [
    {
     "data": {
      "text/plain": [
       "Mann_Kendall_Test(trend='increasing', h=np.True_, p=np.float64(0.02779843620449718), z=np.float64(2.200119239311525), Tau=np.float64(0.23693379790940766), s=np.float64(204.0), var_s=np.float64(8513.333333333334), slope=np.float64(0.09592592592592605), intercept=np.float64(29.883518518518517))"
      ]
     },
     "execution_count": 47,
     "metadata": {},
     "output_type": "execute_result"
    }
   ],
   "source": [
    "mk.original_test(KUK.RH)"
   ]
  },
  {
   "cell_type": "code",
   "execution_count": 48,
   "id": "e048ba50-fdcd-4d46-bd13-308e87901422",
   "metadata": {},
   "outputs": [
    {
     "data": {
      "text/plain": [
       "Mann_Kendall_Test(trend='increasing', h=np.True_, p=np.float64(0.0002711986250114595), z=np.float64(3.6413628159013927), Tau=np.float64(0.3914053426248548), s=np.float64(337.0), var_s=8514.333333333334, slope=np.float64(5.258333333333326), intercept=np.float64(264.6991666666668))"
      ]
     },
     "execution_count": 48,
     "metadata": {},
     "output_type": "execute_result"
    }
   ],
   "source": [
    "mk.original_test(KUK.PRECIP)"
   ]
  },
  {
   "cell_type": "code",
   "execution_count": null,
   "id": "52f750f2-b8e7-49ab-9891-efd8ef28baac",
   "metadata": {},
   "outputs": [],
   "source": []
  }
 ],
 "metadata": {
  "kernelspec": {
   "display_name": "Python 3 (ipykernel)",
   "language": "python",
   "name": "python3"
  },
  "language_info": {
   "codemirror_mode": {
    "name": "ipython",
    "version": 3
   },
   "file_extension": ".py",
   "mimetype": "text/x-python",
   "name": "python",
   "nbconvert_exporter": "python",
   "pygments_lexer": "ipython3",
   "version": "3.13.3"
  }
 },
 "nbformat": 4,
 "nbformat_minor": 5
}
